{
  "nbformat": 4,
  "nbformat_minor": 0,
  "metadata": {
    "colab": {
      "provenance": []
    },
    "kernelspec": {
      "name": "python3",
      "display_name": "Python 3"
    },
    "language_info": {
      "name": "python"
    }
  },
  "cells": [
    {
      "cell_type": "code",
      "execution_count": null,
      "metadata": {
        "id": "4jrngLm6GijY"
      },
      "outputs": [],
      "source": [
        "import matplotlib.pyplot as plt\n",
        "import tensorflow as tf\n",
        "from tensorflow.keras import layers, models"
      ]
    },
    {
      "cell_type": "markdown",
      "source": [
        "# Import Dataset"
      ],
      "metadata": {
        "id": "3hwQQzeZMB76"
      }
    },
    {
      "cell_type": "code",
      "source": [
        "IMG_SIZE=\n",
        "BATCH_SIZE=32"
      ],
      "metadata": {
        "id": "sabryqthLpfk"
      },
      "execution_count": null,
      "outputs": []
    },
    {
      "cell_type": "code",
      "source": [
        "def import_dataset(path, IMG_SIZE=256,BATCH_SIZE=32):\n",
        "  dataset=tf.keras.preprocessing.image_dataset_from_directory(\n",
        "      # path,\n",
        "      shuffle=True,\n",
        "      image_size=(IMG_SIZE,IMG_SIZE),\n",
        "      batch_size=BATCH_SIZE\n",
        "  )\n",
        "  return dataset"
      ],
      "metadata": {
        "id": "OoAqf9BQLCOK"
      },
      "execution_count": null,
      "outputs": []
    },
    {
      "cell_type": "code",
      "source": [
        "dataset=import_dataset(path,IMG_SIZE,BATCH_SIZE)"
      ],
      "metadata": {
        "id": "rK4N40Qn9RzO"
      },
      "execution_count": null,
      "outputs": []
    },
    {
      "cell_type": "markdown",
      "source": [
        "# Visualization"
      ],
      "metadata": {
        "id": "rBbGCSfQ43Kh"
      }
    },
    {
      "cell_type": "code",
      "source": [
        "class_names=dataset.class_names"
      ],
      "metadata": {
        "id": "KIpRpOUaMQe9"
      },
      "execution_count": null,
      "outputs": []
    },
    {
      "cell_type": "code",
      "source": [
        "for image, label in dataset.table(1):\n",
        "  print(image.shape)\n",
        "  print(label.numpy())"
      ],
      "metadata": {
        "id": "D7tNSd5m1wk1"
      },
      "execution_count": null,
      "outputs": []
    },
    {
      "cell_type": "code",
      "source": [
        "def visualize_data(dataset):\n",
        "  plt.figure(figsize=(10,10))\n",
        "  for image, label in dataset.table(1):\n",
        "    for i in range(10):\n",
        "      ax=plt.subplot(2,5,i+1)\n",
        "      plt.imshow(image[i].numpy().astype(\"uint8\"))\n",
        "      plt.title(class_names[label[i]])\n",
        "      plt.axis(\"off\")"
      ],
      "metadata": {
        "id": "o42fbLcI1wnU"
      },
      "execution_count": null,
      "outputs": []
    },
    {
      "cell_type": "code",
      "source": [
        "visualize_data(dataset)"
      ],
      "metadata": {
        "id": "BJwUq8c_8Isb"
      },
      "execution_count": null,
      "outputs": []
    },
    {
      "cell_type": "markdown",
      "source": [
        "# Split the Data"
      ],
      "metadata": {
        "id": "dtdRlZkF49eF"
      }
    },
    {
      "cell_type": "code",
      "source": [
        "def train_test_split(dataset,train_split=0.8 , test_split=0.1, validation_split=0.1 ,shuffle=True,shuffle_size=10000):\n",
        "  dataset_size=len(dataset)\n",
        "  if shuffle:\n",
        "    datatset=dataset.shuffle(shuffle_size,seed=10)\n",
        "\n",
        "  train_size=int(dataset_size*train_split)\n",
        "  val_size=int(validation_split*dataset_size)\n",
        "\n",
        "  train_ds=dataset.take(train_size)\n",
        "  val_ds=dataset.skip(train_size).take(val_size)\n",
        "  test_ds=dataset.skip(train_size).skip(val_size)\n",
        "\n",
        "  return train_ds, val_ds, test_ds"
      ],
      "metadata": {
        "id": "60su3HE44wCS"
      },
      "execution_count": null,
      "outputs": []
    },
    {
      "cell_type": "code",
      "source": [
        "train_ds, val_ds, test_ds=train_test_split(dataset)"
      ],
      "metadata": {
        "id": "JHgvEnMX1wqw"
      },
      "execution_count": null,
      "outputs": []
    },
    {
      "cell_type": "markdown",
      "source": [
        "- Check Class imbalance in train, valid and test"
      ],
      "metadata": {
        "id": "RMXA3AmauLWD"
      }
    },
    {
      "cell_type": "markdown",
      "source": [
        "# Optimize the Data\n"
      ],
      "metadata": {
        "id": "K0URi5T6Tzi_"
      }
    },
    {
      "cell_type": "code",
      "source": [
        "train_ds=train_ds.cache().shuffle(1000).prefetch(buffer_size=tf.data.AUTOTUNE)\n",
        "val_ds=val_ds.cache().shuffle(1000).prefetch(buffer_size=tf.data.AUTOTUNE)\n",
        "test_ds=test_ds.cache().shuffle(1000).prefetch(buffer_size=tf.data.AUTOTUNE)"
      ],
      "metadata": {
        "id": "niuuj_EmT1yM"
      },
      "execution_count": null,
      "outputs": []
    },
    {
      "cell_type": "markdown",
      "source": [
        "# Scale Data"
      ],
      "metadata": {
        "id": "MqtJ7TRzUe3i"
      }
    },
    {
      "cell_type": "code",
      "source": [
        "resize_and_scale=tf.keras.Sequential([\n",
        "          layers.experimental.preprocessing.Resizing(IMG_SIZE,IMG_SIZE),\n",
        "          layers.experimental.preprocessing.Rescaling(1/255)\n",
        "\n",
        "])"
      ],
      "metadata": {
        "id": "ZHnplREVUhBi"
      },
      "execution_count": null,
      "outputs": []
    },
    {
      "cell_type": "markdown",
      "source": [
        "# Data Augmentation"
      ],
      "metadata": {
        "id": "BFdlrcJVVZh-"
      }
    },
    {
      "cell_type": "code",
      "source": [
        "data_augmentation=tf.keras.Sequential([\n",
        "    layers.experimental.preprocessing.RandomFlip(\"horizontal_and_vertical\"),\n",
        "    layers.experimental.preprocessing.RandomRotation(0.2)\n",
        "])"
      ],
      "metadata": {
        "id": "8PWsaYOMVYV4"
      },
      "execution_count": null,
      "outputs": []
    }
  ]
}